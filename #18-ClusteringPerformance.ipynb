{
 "metadata": {
  "language_info": {
   "codemirror_mode": {
    "name": "ipython",
    "version": 3
   },
   "file_extension": ".py",
   "mimetype": "text/x-python",
   "name": "python",
   "nbconvert_exporter": "python",
   "pygments_lexer": "ipython3",
   "version": "3.9.1-final"
  },
  "orig_nbformat": 2,
  "kernelspec": {
   "name": "python3",
   "display_name": "Python 3",
   "language": "python"
  }
 },
 "nbformat": 4,
 "nbformat_minor": 2,
 "cells": [
  {
   "cell_type": "code",
   "execution_count": 1,
   "metadata": {},
   "outputs": [
    {
     "output_type": "execute_result",
     "data": {
      "text/plain": [
       "0.4444444444444444"
      ]
     },
     "metadata": {},
     "execution_count": 1
    }
   ],
   "source": [
    "#Adjusted Rand Index\n",
    "from sklearn.metrics.cluster import adjusted_rand_score\n",
    "labels_true = [0, 0, 1, 1, 1, 1]\n",
    "labels_pred = [0, 0, 2, 2, 3, 3]\n",
    "adjusted_rand_score(labels_true, labels_pred)"
   ]
  },
  {
   "cell_type": "code",
   "execution_count": 2,
   "metadata": {},
   "outputs": [
    {
     "output_type": "execute_result",
     "data": {
      "text/plain": [
       "0.7336804366512113"
      ]
     },
     "metadata": {},
     "execution_count": 2
    }
   ],
   "source": [
    "from sklearn.metrics.cluster import normalized_mutual_info_score\n",
    "labels_true = [0, 0, 1, 1, 1, 1]\n",
    "labels_pred = [0, 0, 2, 2, 3, 3]\n",
    "normalized_mutual_info_score (labels_true, labels_pred)\n",
    "#Checkoutput 0.76?"
   ]
  },
  {
   "cell_type": "code",
   "execution_count": 3,
   "metadata": {},
   "outputs": [
    {
     "output_type": "execute_result",
     "data": {
      "text/plain": [
       "0.6153846153846159"
      ]
     },
     "metadata": {},
     "execution_count": 3
    }
   ],
   "source": [
    "#Adjusted Mutual Information (AMI)\n",
    "from sklearn.metrics.cluster import adjusted_mutual_info_score\n",
    "labels_true = [0, 0, 1, 1, 1, 1]\n",
    "labels_pred = [0, 0, 2, 2, 3, 3]\n",
    "adjusted_mutual_info_score (labels_true, labels_pred)\n",
    "#Output 0.44?"
   ]
  },
  {
   "cell_type": "code",
   "execution_count": 5,
   "metadata": {},
   "outputs": [
    {
     "output_type": "execute_result",
     "data": {
      "text/plain": [
       "0.6546536707079771"
      ]
     },
     "metadata": {},
     "execution_count": 5
    }
   ],
   "source": [
    "from sklearn.metrics.cluster import fowlkes_mallows_score\n",
    "\n",
    "labels_true = [0, 0, 1, 1, 1, 1]\n",
    "labels_pred = [0, 0, 2, 2, 3, 3]\n",
    "fowlkes_mallows_score (labels_true, labels_pred)"
   ]
  },
  {
   "cell_type": "code",
   "execution_count": 16,
   "metadata": {},
   "outputs": [
    {
     "output_type": "execute_result",
     "data": {
      "text/plain": [
       "0.5528190123564095"
      ]
     },
     "metadata": {},
     "execution_count": 16
    }
   ],
   "source": [
    "#Silhouette Coefficient\n",
    " \n",
    "from sklearn.metrics import silhouette_score\n",
    "from sklearn.metrics import pairwise_distances\n",
    "from sklearn import datasets\n",
    "import numpy as np\n",
    "from sklearn.cluster import KMeans\n",
    "dataset = datasets.load_iris()\n",
    "X = dataset.data\n",
    "y = dataset.target\n",
    "kmeans_model = KMeans(n_clusters=3, random_state=1).fit(X)\n",
    "labels = kmeans_model.labels_\n",
    "silhouette_score(X, labels, metric='euclidean')"
   ]
  },
  {
   "cell_type": "code",
   "execution_count": 17,
   "metadata": {},
   "outputs": [
    {
     "output_type": "execute_result",
     "data": {
      "text/plain": [
       "array([[0, 2, 1],\n",
       "       [1, 1, 1]], dtype=int64)"
      ]
     },
     "metadata": {},
     "execution_count": 17
    }
   ],
   "source": [
    "from sklearn.metrics.cluster import contingency_matrix\n",
    "x = [\"a\", \"a\", \"a\", \"b\", \"b\", \"b\"]\n",
    "y = [1, 1, 2, 0, 1, 2]\n",
    "contingency_matrix(x, y)"
   ]
  },
  {
   "cell_type": "code",
   "execution_count": null,
   "metadata": {},
   "outputs": [],
   "source": []
  }
 ]
}