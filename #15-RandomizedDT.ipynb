{
 "metadata": {
  "language_info": {
   "codemirror_mode": {
    "name": "ipython",
    "version": 3
   },
   "file_extension": ".py",
   "mimetype": "text/x-python",
   "name": "python",
   "nbconvert_exporter": "python",
   "pygments_lexer": "ipython3",
   "version": "3.9.1-final"
  },
  "orig_nbformat": 2,
  "kernelspec": {
   "name": "python3",
   "display_name": "Python 3",
   "language": "python"
  }
 },
 "nbformat": 4,
 "nbformat_minor": 2,
 "cells": [
  {
   "cell_type": "code",
   "execution_count": null,
   "metadata": {},
   "outputs": [],
   "source": [
    "# sklearn.ensemble\n",
    "# The Random Forest algorithm\n",
    "from sklearn.model_selection import cross_val_score\n",
    "from sklearn.datasets import make_blobs\n",
    "from sklearn.ensemble import RandomForestClassifier\n",
    "X, y = make_blobs(n_samples=10000, n_features=10, centers=100,random_state=0) \n",
    "RFclf = RandomForestClassifier(n_estimators=10,max_depth=None,min_samples_split=2, random_state=0)\n",
    "scores = cross_val_score(RFclf, X, y, cv=5)\n",
    "scores.mean()"
   ]
  },
  {
   "cell_type": "code",
   "execution_count": null,
   "metadata": {},
   "outputs": [],
   "source": [
    "import numpy as np\n",
    "import pandas as pd\n",
    "from sklearn.model_selection import train_test_split\n",
    "from sklearn.ensemble import RandomForestClassifier\n",
    "from sklearn.metrics import classification_report, confusion_matrix, accuracy_score\n",
    "path = \"https://archive.ics.uci.edu/ml/machine-learning-databases/iris/iris.data\"\n",
    "headernames = ['sepal-length', 'sepal-width', 'petal-length', 'petal-width', 'Class']\n",
    "dataset = pd.read_csv(path, names=headernames)\n",
    "X = dataset.iloc[:, :-1].values\n",
    "y = dataset.iloc[:, 4].values\n",
    "X_train, X_test, y_train, y_test = train_test_split(X, y, test_size=0.30)\n",
    "RFclf = RandomForestClassifier(n_estimators=50)\n",
    "RFclf.fit(X_train, y_train)\n",
    "y_pred = RFclf.predict(X_test)\n",
    "result = confusion_matrix(y_test, y_pred)\n",
    "print(\"Confusion Matrix:\")\n",
    "print(result)\n",
    "result1 = classification_report(y_test, y_pred)\n",
    "print(\"Classification Report:\",)\n",
    "print (result1)\n",
    "result2 = accuracy_score(y_test,y_pred)\n",
    "print(\"Accuracy:\",result2)"
   ]
  },
  {
   "cell_type": "code",
   "execution_count": null,
   "metadata": {},
   "outputs": [],
   "source": [
    "#Random Forest Regression\n",
    "from sklearn.ensemble import RandomForestRegressor\n",
    "from sklearn.datasets import make_regression\n",
    "X, y = make_regression(n_features=10, n_informative=2,random_state=0, shuffle=False)\n",
    "RFregr = RandomForestRegressor(max_depth=10,random_state=0,n_estimators=100)\n",
    "RFregr.fit(X, y)"
   ]
  },
  {
   "cell_type": "code",
   "execution_count": null,
   "metadata": {},
   "outputs": [],
   "source": [
    "print(RFregr.predict([[0, 2, 3, 0, 1, 1, 1, 1, 2, 2]]))"
   ]
  },
  {
   "cell_type": "code",
   "execution_count": 43,
   "metadata": {},
   "outputs": [
    {
     "output_type": "execute_result",
     "data": {
      "text/plain": [
       "1.0"
      ]
     },
     "metadata": {},
     "execution_count": 43
    }
   ],
   "source": [
    "#Extra-Tree Method\n",
    "from sklearn.model_selection import cross_val_score\n",
    "from sklearn.datasets import make_blobs\n",
    "from sklearn.ensemble import ExtraTreesClassifier\n",
    "X, y = make_blobs(n_samples=10000, n_features=10, centers=100,random_state=0)\n",
    "ETclf = ExtraTreesClassifier(n_estimators=10,max_depth=None,min_samples_split=10, random_state=0)\n",
    "scores = cross_val_score(ETclf, X, y, cv=5)\n",
    "scores.mean()"
   ]
  },
  {
   "cell_type": "code",
   "execution_count": 48,
   "metadata": {},
   "outputs": [
    {
     "output_type": "stream",
     "name": "stdout",
     "text": [
      "(768, 9)\n",
      "   preg  plas  pres  skin  test  mass   pedi  age  class\n",
      "0     6   148    72    35     0  33.6  0.627   50      1\n",
      "1     1    85    66    29     0  26.6  0.351   31      0\n",
      "2     8   183    64     0     0  23.3  0.672   32      1\n",
      "0.76296992481203\n"
     ]
    }
   ],
   "source": [
    "from pandas import read_csv\n",
    "\n",
    "from sklearn.model_selection import KFold\n",
    "from sklearn.model_selection import cross_val_score\n",
    "from sklearn.ensemble import ExtraTreesClassifier\n",
    "path = r\"pima-indians-diabetes.csv\"\n",
    "headernames = ['preg', 'plas', 'pres', 'skin', 'test', 'mass', 'pedi', 'age', 'class']\n",
    "data = read_csv(path, names=headernames)\n",
    "print(data.shape)\n",
    "print(data[:3])\n",
    "array = data.values\n",
    "X = array[:,0:8]\n",
    "Y = array[:,8]\n",
    "#TODO kfold = KFold(n_splits=10, random_state=7)\n",
    "kfold = KFold(n_splits=10, random_state=None, shuffle=False)\n",
    "num_trees = 150\n",
    "max_features = 5\n",
    "ETclf = ExtraTreesClassifier(n_estimators=num_trees, max_features=max_features)\n",
    "results = cross_val_score(ETclf, X, Y, cv=kfold)\n",
    "print(results.mean())"
   ]
  },
  {
   "cell_type": "code",
   "execution_count": null,
   "metadata": {},
   "outputs": [],
   "source": [
    "from sklearn.ensemble import ExtraTreesRegressor\n",
    "from sklearn.datasets import make_regression\n",
    "X, y = make_regression(n_features=10, n_informative=2,random_state=0, shuffle=False)\n",
    "ETregr = ExtraTreesRegressor(max_depth=10,random_state=0,n_estimators=100)\n",
    "ETregr.fit(X, y)"
   ]
  },
  {
   "cell_type": "code",
   "execution_count": null,
   "metadata": {},
   "outputs": [],
   "source": [
    "print(ETregr.predict([[0, 2, 3, 0, 1, 1, 1, 1, 2, 2]]))"
   ]
  },
  {
   "cell_type": "code",
   "execution_count": null,
   "metadata": {},
   "outputs": [],
   "source": []
  }
 ]
}