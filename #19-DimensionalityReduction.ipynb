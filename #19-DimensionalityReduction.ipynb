{
 "metadata": {
  "language_info": {
   "codemirror_mode": {
    "name": "ipython",
    "version": 3
   },
   "file_extension": ".py",
   "mimetype": "text/x-python",
   "name": "python",
   "nbconvert_exporter": "python",
   "pygments_lexer": "ipython3",
   "version": "3.9.1-final"
  },
  "orig_nbformat": 2,
  "kernelspec": {
   "name": "python3",
   "display_name": "Python 3",
   "language": "python"
  }
 },
 "nbformat": 4,
 "nbformat_minor": 2,
 "cells": [
  {
   "cell_type": "code",
   "execution_count": 2,
   "metadata": {},
   "outputs": [
    {
     "output_type": "stream",
     "name": "stdout",
     "text": [
      "Explained Variance: [0.88854663 0.06159078 0.02579012 0.01308614 0.00744094]\n[[-2.02176587e-03  9.78115765e-02  1.60930503e-02  6.07566861e-02\n   9.93110844e-01  1.40108085e-02  5.37167919e-04 -3.56474430e-03]\n [-2.26488861e-02 -9.72210040e-01 -1.41909330e-01  5.78614699e-02\n   9.46266913e-02 -4.69729766e-02 -8.16804621e-04 -1.40168181e-01]\n [-2.24649003e-02  1.43428710e-01 -9.22467192e-01 -3.07013055e-01\n   2.09773019e-02 -1.32444542e-01 -6.39983017e-04 -1.25454310e-01]\n [-4.90459604e-02  1.19830016e-01 -2.62742788e-01  8.84369380e-01\n  -6.55503615e-02  1.92801728e-01  2.69908637e-03 -3.01024330e-01]\n [ 1.51612874e-01 -8.79407680e-02 -2.32165009e-01  2.59973487e-01\n  -1.72312241e-04  2.14744823e-02  1.64080684e-03  9.20504903e-01]]\n"
     ]
    }
   ],
   "source": [
    "#ExactPCA\n",
    "from pandas import read_csv\n",
    "from sklearn.decomposition import PCA\n",
    "path = r'pima-indians-diabetes.csv'\n",
    "names = ['preg', 'plas', 'pres', 'skin', 'test', 'mass', 'pedi', 'age', 'class']\n",
    "dataframe = read_csv(path, names=names)\n",
    "array = dataframe.values\n",
    "X = array[:,0:8]\n",
    "Y = array[:,8]\n",
    "pca = PCA(n_components=5)\n",
    "fit = pca.fit(X)\n",
    "print((\"Explained Variance: %s\") % (fit.explained_variance_ratio_))\n",
    "print(fit.components_)"
   ]
  },
  {
   "cell_type": "code",
   "execution_count": 3,
   "metadata": {},
   "outputs": [
    {
     "output_type": "execute_result",
     "data": {
      "text/plain": [
       "(1797, 10)"
      ]
     },
     "metadata": {},
     "execution_count": 3
    }
   ],
   "source": [
    "#Incremental PCA\n",
    "from sklearn.datasets import load_digits\n",
    "from sklearn.decomposition import IncrementalPCA\n",
    "X, _ = load_digits(return_X_y=True)\n",
    "transformer = IncrementalPCA(n_components=10, batch_size=100)\n",
    "transformer.partial_fit(X[:100, :])\n",
    "X_transformed = transformer.fit_transform(X)\n",
    "X_transformed.shape"
   ]
  },
  {
   "cell_type": "code",
   "execution_count": 8,
   "metadata": {},
   "outputs": [
    {
     "output_type": "execute_result",
     "data": {
      "text/plain": [
       "(1797, 10)"
      ]
     },
     "metadata": {},
     "execution_count": 8
    }
   ],
   "source": [
    "#Kernel PCA\n",
    "from sklearn.datasets import load_digits\n",
    "from sklearn.decomposition import KernelPCA\n",
    "X, _ = load_digits(return_X_y=True)\n",
    "transformer = KernelPCA(n_components=10, kernel='sigmoid')\n",
    "X_transformed = transformer.fit_transform(X)\n",
    "X_transformed.shape"
   ]
  },
  {
   "cell_type": "code",
   "execution_count": 10,
   "metadata": {},
   "outputs": [
    {
     "output_type": "stream",
     "name": "stdout",
     "text": [
      "Explained Variance: [8.88546635e-01 6.15907837e-02 2.57901189e-02 1.30861374e-02\n 7.44093864e-03 3.02614919e-03 5.12444875e-04]\n[[-2.02176587e-03  9.78115765e-02  1.60930503e-02  6.07566861e-02\n   9.93110844e-01  1.40108085e-02  5.37167919e-04 -3.56474430e-03]\n [-2.26488861e-02 -9.72210040e-01 -1.41909330e-01  5.78614699e-02\n   9.46266913e-02 -4.69729766e-02 -8.16804621e-04 -1.40168181e-01]\n [-2.24649003e-02  1.43428710e-01 -9.22467192e-01 -3.07013055e-01\n   2.09773019e-02 -1.32444542e-01 -6.39983017e-04 -1.25454310e-01]\n [-4.90459604e-02  1.19830016e-01 -2.62742788e-01  8.84369380e-01\n  -6.55503615e-02  1.92801728e-01  2.69908637e-03 -3.01024330e-01]\n [ 1.51612874e-01 -8.79407680e-02 -2.32165009e-01  2.59973487e-01\n  -1.72312241e-04  2.14744823e-02  1.64080684e-03  9.20504903e-01]\n [-5.04730888e-03  5.07391813e-02  7.56365525e-02  2.21363068e-01\n  -6.13326472e-03 -9.70776708e-01 -2.02903702e-03 -1.51133239e-02]\n [ 9.86672995e-01  8.83426114e-04 -1.22975947e-03 -3.76444746e-04\n   1.42307394e-03 -2.73046214e-03 -6.34402965e-03 -1.62555343e-01]]\n"
     ]
    }
   ],
   "source": [
    "#PCA using randomized SVD\n",
    "from pandas import read_csv\n",
    "from sklearn.decomposition import PCA\n",
    "path = r'pima-indians-diabetes.csv'\n",
    "names = ['preg', 'plas', 'pres', 'skin', 'test', 'mass', 'pedi', 'age', 'class']\n",
    "dataframe = read_csv(path, names=names)\n",
    "array = dataframe.values\n",
    "X = array[:,0:8]\n",
    "Y = array[:,8]\n",
    "pca = PCA(n_components=7,svd_solver= 'randomized')\n",
    "fit = pca.fit(X)\n",
    "print((\"Explained Variance: %s\") % (fit.explained_variance_ratio_))\n",
    "print(fit.components_)"
   ]
  },
  {
   "cell_type": "code",
   "execution_count": null,
   "metadata": {},
   "outputs": [],
   "source": []
  }
 ]
}