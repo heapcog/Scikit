{
 "metadata": {
  "language_info": {
   "codemirror_mode": {
    "name": "ipython",
    "version": 3
   },
   "file_extension": ".py",
   "mimetype": "text/x-python",
   "name": "python",
   "nbconvert_exporter": "python",
   "pygments_lexer": "ipython3",
   "version": "3.9.1-final"
  },
  "orig_nbformat": 2,
  "kernelspec": {
   "name": "python3",
   "display_name": "Python 3",
   "language": "python"
  }
 },
 "nbformat": 4,
 "nbformat_minor": 2,
 "cells": [
  {
   "cell_type": "code",
   "execution_count": 13,
   "metadata": {},
   "outputs": [
    {
     "output_type": "stream",
     "name": "stdout",
     "text": [
      "\n old: \n float32\n\n New: \n float64\n"
     ]
    }
   ],
   "source": [
    "import numpy as np\n",
    "from sklearn import random_projection\n",
    "range = np.random.RandomState(0)\n",
    "X = range.rand(10,2000)\n",
    "X = np.array(X, dtype = 'float32')\n",
    "print(\"\\n old: \\n\", X.dtype)\n",
    "transformer = random_projection.GaussianRandomProjection()\n",
    "X_new = transformer.fit_transform(X)\n",
    "print(\"\\n New: \\n\",X_new.dtype)"
   ]
  },
  {
   "cell_type": "code",
   "execution_count": 21,
   "metadata": {},
   "outputs": [
    {
     "output_type": "stream",
     "name": "stdout",
     "text": [
      "linear array\n [0 0 0 0 0]\nscale array\n [0 0 0 0 0]\n"
     ]
    }
   ],
   "source": [
    "import numpy as np\n",
    "from sklearn.datasets import load_iris\n",
    "from sklearn.svm import SVC\n",
    "X, y = load_iris(return_X_y=True)\n",
    "clf = SVC()\n",
    "clf.set_params(kernel='linear').fit(X, y)\n",
    "print(\"linear array\\n\",clf.predict(X[:5]))\n",
    "clf.set_params(kernel='rbf', gamma='scale').fit(X, y)\n",
    "print(\"scale array\\n\",clf.predict(X[:5]))"
   ]
  },
  {
   "cell_type": "code",
   "execution_count": 25,
   "metadata": {},
   "outputs": [
    {
     "output_type": "execute_result",
     "data": {
      "text/plain": [
       "array([0, 1, 1, 1, 2])"
      ]
     },
     "metadata": {},
     "execution_count": 25
    }
   ],
   "source": [
    "#Predict \n",
    "from sklearn.svm import SVC\n",
    "from sklearn.multiclass import OneVsRestClassifier\n",
    "from sklearn.preprocessing import LabelBinarizer\n",
    "X = [[1, 2], [3, 4], [4, 5], [5, 2], [1, 1]]\n",
    "y = [0, 0, 1, 1, 2]\n",
    "classif = OneVsRestClassifier(estimator=SVC(gamma='scale',random_state=0))\n",
    "classif.fit(X, y).predict(X)"
   ]
  },
  {
   "cell_type": "code",
   "execution_count": 26,
   "metadata": {},
   "outputs": [
    {
     "output_type": "execute_result",
     "data": {
      "text/plain": [
       "array([[0, 0, 0],\n",
       "       [0, 0, 0],\n",
       "       [0, 1, 0],\n",
       "       [0, 1, 0],\n",
       "       [0, 0, 0]])"
      ]
     },
     "metadata": {},
     "execution_count": 26
    }
   ],
   "source": [
    "#fit on two dimensional array\n",
    "\n",
    "from sklearn.svm import SVC\n",
    "from sklearn.multiclass import OneVsRestClassifier\n",
    "from sklearn.preprocessing import LabelBinarizer\n",
    "X = [[1, 2], [3, 4], [4, 5], [5, 2], [1, 1]]\n",
    "y = LabelBinarizer().fit_transform(y)\n",
    "classif.fit(X, y).predict(X)"
   ]
  },
  {
   "cell_type": "code",
   "execution_count": 27,
   "metadata": {},
   "outputs": [
    {
     "output_type": "execute_result",
     "data": {
      "text/plain": [
       "array([[1, 0, 1, 0, 0],\n",
       "       [1, 0, 1, 0, 0],\n",
       "       [1, 0, 1, 1, 0],\n",
       "       [1, 0, 1, 1, 0],\n",
       "       [1, 0, 1, 0, 0]])"
      ]
     },
     "metadata": {},
     "execution_count": 27
    }
   ],
   "source": [
    "#Multilabel fitting\n",
    "from sklearn.preprocessing import MultiLabelBinarizer\n",
    "y = [[0, 1], [0, 2], [1, 3], [0, 2, 3], [2, 4]]\n",
    "y = MultiLabelBinarizer().fit_transform(y)\n",
    "classif.fit(X, y).predict(X)"
   ]
  },
  {
   "cell_type": "code",
   "execution_count": null,
   "metadata": {},
   "outputs": [],
   "source": []
  }
 ]
}